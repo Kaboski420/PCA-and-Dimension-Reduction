{
 "cells": [
  {
   "cell_type": "code",
   "execution_count": null,
   "id": "e1e64b37",
   "metadata": {},
   "outputs": [],
   "source": [
    "import numpy as np\n",
    "\n",
    "def myPCA(data):\n",
    "    \"\"\"\n",
    "    Perform PCA on input data.\n",
    "\n",
    "    Parameters:\n",
    "        -- data: MxN numpy array, where M is the number of dimensions and N is the number of data points.\n",
    "\n",
    "    Returns:\n",
    "        -- V: 1D numpy array of data variances along the principal components, arranged in descending order.\n",
    "        -- PC: MxM numpy array with each column representing a principal component.\n",
    "        -- signals: MxN numpy array of projected data.\n",
    "    \"\"\"\n",
    "\n",
    "    # Center the data by subtracting the mean along each dimension\n",
    "    data_centered = data - np.mean(data, axis=1, keepdims=True)\n",
    "\n",
    "    # Compute the covariance matrix\n",
    "    covariance_matrix = np.cov(data_centered)\n",
    "\n",
    "    # Compute the eigenvalues and eigenvectors of the covariance matrix\n",
    "    eigenvalues, eigenvectors = np.linalg.eig(covariance_matrix)\n",
    "\n",
    "    # Sort the eigenvalues and eigenvectors in descending order\n",
    "    sort_indices = np.argsort(eigenvalues)[::-1]\n",
    "    eigenvalues = eigenvalues[sort_indices]\n",
    "    eigenvectors = eigenvectors[:, sort_indices]\n",
    "\n",
    "    # Compute the data variances along the principal components\n",
    "    V = eigenvalues\n",
    "\n",
    "    # Compute the principal components\n",
    "    PC = eigenvectors\n",
    "\n",
    "    # Project the data onto the principal components\n",
    "    signals = np.dot(PC.T, data_centered)\n",
    "\n",
    "    return V, PC, signals\n"
   ]
  }
 ],
 "metadata": {
  "kernelspec": {
   "display_name": "Python 3 (ipykernel)",
   "language": "python",
   "name": "python3"
  },
  "language_info": {
   "codemirror_mode": {
    "name": "ipython",
    "version": 3
   },
   "file_extension": ".py",
   "mimetype": "text/x-python",
   "name": "python",
   "nbconvert_exporter": "python",
   "pygments_lexer": "ipython3",
   "version": "3.9.13"
  }
 },
 "nbformat": 4,
 "nbformat_minor": 5
}
